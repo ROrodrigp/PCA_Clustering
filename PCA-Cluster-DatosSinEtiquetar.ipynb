{
 "cells": [
  {
   "cell_type": "code",
   "execution_count": 123,
   "id": "e4786b1f",
   "metadata": {},
   "outputs": [],
   "source": [
    "#Importamos los modulos que se utilizarán \n",
    "import pandas as pd\n",
    "import numpy as np "
   ]
  },
  {
   "cell_type": "code",
   "execution_count": 124,
   "id": "7c4ed7a9",
   "metadata": {},
   "outputs": [
    {
     "data": {
      "text/html": [
       "<div>\n",
       "<style scoped>\n",
       "    .dataframe tbody tr th:only-of-type {\n",
       "        vertical-align: middle;\n",
       "    }\n",
       "\n",
       "    .dataframe tbody tr th {\n",
       "        vertical-align: top;\n",
       "    }\n",
       "\n",
       "    .dataframe thead th {\n",
       "        text-align: right;\n",
       "    }\n",
       "</style>\n",
       "<table border=\"1\" class=\"dataframe\">\n",
       "  <thead>\n",
       "    <tr style=\"text-align: right;\">\n",
       "      <th></th>\n",
       "      <th>Name</th>\n",
       "      <th>EXP INPer</th>\n",
       "      <th>Unnamed: 2</th>\n",
       "      <th>Unnamed: 3</th>\n",
       "      <th>PL Pb [ng/g]</th>\n",
       "      <th>PL Mn [ng/g]</th>\n",
       "      <th>PL Cd [ng/g]</th>\n",
       "      <th>PL As [ng/g]</th>\n",
       "      <th>BPb [ug/dL]</th>\n",
       "      <th>BMn [ug/dL]</th>\n",
       "      <th>...</th>\n",
       "      <th>birth length</th>\n",
       "      <th>length perc</th>\n",
       "      <th>z score length</th>\n",
       "      <th>birth weight</th>\n",
       "      <th>percentile bw</th>\n",
       "      <th>percentile range bw</th>\n",
       "      <th>z score bw</th>\n",
       "      <th>Cephalic Perimeter</th>\n",
       "      <th>CP percentile</th>\n",
       "      <th>z score CP</th>\n",
       "    </tr>\n",
       "  </thead>\n",
       "  <tbody>\n",
       "    <tr>\n",
       "      <th>0</th>\n",
       "      <td>NaN</td>\n",
       "      <td>221104.0</td>\n",
       "      <td>NaN</td>\n",
       "      <td>NaN</td>\n",
       "      <td>8.88</td>\n",
       "      <td>46.44</td>\n",
       "      <td>7.19</td>\n",
       "      <td>1.56</td>\n",
       "      <td>7.81</td>\n",
       "      <td>4.77</td>\n",
       "      <td>...</td>\n",
       "      <td>NaN</td>\n",
       "      <td>NaN</td>\n",
       "      <td>NaN</td>\n",
       "      <td>NaN</td>\n",
       "      <td>NaN</td>\n",
       "      <td>NaN</td>\n",
       "      <td>NaN</td>\n",
       "      <td>NaN</td>\n",
       "      <td>NaN</td>\n",
       "      <td>NaN</td>\n",
       "    </tr>\n",
       "    <tr>\n",
       "      <th>1</th>\n",
       "      <td>NaN</td>\n",
       "      <td>211198.0</td>\n",
       "      <td>NaN</td>\n",
       "      <td>NaN</td>\n",
       "      <td>2.66</td>\n",
       "      <td>34.24</td>\n",
       "      <td>0.75</td>\n",
       "      <td>1.21</td>\n",
       "      <td>1.24</td>\n",
       "      <td>7.65</td>\n",
       "      <td>...</td>\n",
       "      <td>NaN</td>\n",
       "      <td>NaN</td>\n",
       "      <td>NaN</td>\n",
       "      <td>NaN</td>\n",
       "      <td>NaN</td>\n",
       "      <td>NaN</td>\n",
       "      <td>NaN</td>\n",
       "      <td>NaN</td>\n",
       "      <td>NaN</td>\n",
       "      <td>NaN</td>\n",
       "    </tr>\n",
       "    <tr>\n",
       "      <th>2</th>\n",
       "      <td>NaN</td>\n",
       "      <td>221918.0</td>\n",
       "      <td>NaN</td>\n",
       "      <td>NaN</td>\n",
       "      <td>3.50</td>\n",
       "      <td>35.43</td>\n",
       "      <td>0.59</td>\n",
       "      <td>1.56</td>\n",
       "      <td>0.94</td>\n",
       "      <td>1.62</td>\n",
       "      <td>...</td>\n",
       "      <td>NaN</td>\n",
       "      <td>NaN</td>\n",
       "      <td>NaN</td>\n",
       "      <td>NaN</td>\n",
       "      <td>NaN</td>\n",
       "      <td>NaN</td>\n",
       "      <td>NaN</td>\n",
       "      <td>NaN</td>\n",
       "      <td>NaN</td>\n",
       "      <td>NaN</td>\n",
       "    </tr>\n",
       "    <tr>\n",
       "      <th>3</th>\n",
       "      <td>NaN</td>\n",
       "      <td>221246.0</td>\n",
       "      <td>NaN</td>\n",
       "      <td>NaN</td>\n",
       "      <td>5.35</td>\n",
       "      <td>37.12</td>\n",
       "      <td>0.73</td>\n",
       "      <td>1.26</td>\n",
       "      <td>1.72</td>\n",
       "      <td>6.41</td>\n",
       "      <td>...</td>\n",
       "      <td>NaN</td>\n",
       "      <td>NaN</td>\n",
       "      <td>NaN</td>\n",
       "      <td>NaN</td>\n",
       "      <td>NaN</td>\n",
       "      <td>NaN</td>\n",
       "      <td>NaN</td>\n",
       "      <td>NaN</td>\n",
       "      <td>NaN</td>\n",
       "      <td>NaN</td>\n",
       "    </tr>\n",
       "    <tr>\n",
       "      <th>4</th>\n",
       "      <td>NaN</td>\n",
       "      <td>221165.0</td>\n",
       "      <td>NaN</td>\n",
       "      <td>NaN</td>\n",
       "      <td>6.98</td>\n",
       "      <td>46.62</td>\n",
       "      <td>2.44</td>\n",
       "      <td>1.36</td>\n",
       "      <td>2.66</td>\n",
       "      <td>4.68</td>\n",
       "      <td>...</td>\n",
       "      <td>NaN</td>\n",
       "      <td>NaN</td>\n",
       "      <td>NaN</td>\n",
       "      <td>NaN</td>\n",
       "      <td>NaN</td>\n",
       "      <td>NaN</td>\n",
       "      <td>NaN</td>\n",
       "      <td>NaN</td>\n",
       "      <td>NaN</td>\n",
       "      <td>NaN</td>\n",
       "    </tr>\n",
       "  </tbody>\n",
       "</table>\n",
       "<p>5 rows × 39 columns</p>\n",
       "</div>"
      ],
      "text/plain": [
       "   Name  EXP INPer  Unnamed: 2  Unnamed: 3  PL Pb [ng/g]  PL Mn [ng/g]  \\\n",
       "0   NaN   221104.0         NaN         NaN          8.88         46.44   \n",
       "1   NaN   211198.0         NaN         NaN          2.66         34.24   \n",
       "2   NaN   221918.0         NaN         NaN          3.50         35.43   \n",
       "3   NaN   221246.0         NaN         NaN          5.35         37.12   \n",
       "4   NaN   221165.0         NaN         NaN          6.98         46.62   \n",
       "\n",
       "   PL Cd [ng/g]  PL As [ng/g]  BPb [ug/dL]  BMn [ug/dL]  ...  birth length  \\\n",
       "0          7.19          1.56         7.81         4.77  ...           NaN   \n",
       "1          0.75          1.21         1.24         7.65  ...           NaN   \n",
       "2          0.59          1.56         0.94         1.62  ...           NaN   \n",
       "3          0.73          1.26         1.72         6.41  ...           NaN   \n",
       "4          2.44          1.36         2.66         4.68  ...           NaN   \n",
       "\n",
       "   length perc  z score length  birth weight  percentile bw  \\\n",
       "0          NaN             NaN           NaN            NaN   \n",
       "1          NaN             NaN           NaN            NaN   \n",
       "2          NaN             NaN           NaN            NaN   \n",
       "3          NaN             NaN           NaN            NaN   \n",
       "4          NaN             NaN           NaN            NaN   \n",
       "\n",
       "   percentile range bw  z score bw  Cephalic Perimeter  CP percentile  \\\n",
       "0                  NaN         NaN                 NaN            NaN   \n",
       "1                  NaN         NaN                 NaN            NaN   \n",
       "2                  NaN         NaN                 NaN            NaN   \n",
       "3                  NaN         NaN                 NaN            NaN   \n",
       "4                  NaN         NaN                 NaN            NaN   \n",
       "\n",
       "   z score CP  \n",
       "0         NaN  \n",
       "1         NaN  \n",
       "2         NaN  \n",
       "3         NaN  \n",
       "4         NaN  \n",
       "\n",
       "[5 rows x 39 columns]"
      ]
     },
     "execution_count": 124,
     "metadata": {},
     "output_type": "execute_result"
    }
   ],
   "source": [
    "#Importamos y visualizamos los datos\n",
    "file_to_load = \"Resources/metales-fetales.xlsx - Hoja1.csv\"\n",
    "fetos_df = pd.read_csv(file_to_load)\n",
    "fetos_df.head()"
   ]
  },
  {
   "cell_type": "code",
   "execution_count": 125,
   "id": "8c43b02c",
   "metadata": {},
   "outputs": [
    {
     "data": {
      "text/plain": [
       "(35, 39)"
      ]
     },
     "execution_count": 125,
     "metadata": {},
     "output_type": "execute_result"
    }
   ],
   "source": [
    "#Observamos sus dimensiones\n",
    "fetos_df.shape"
   ]
  },
  {
   "cell_type": "code",
   "execution_count": 126,
   "id": "50534230",
   "metadata": {},
   "outputs": [
    {
     "data": {
      "text/plain": [
       "Index(['Name', 'EXP INPer', 'Unnamed: 2', 'Unnamed: 3', 'PL Pb [ng/g]',\n",
       "       'PL Mn [ng/g]', 'PL Cd [ng/g]', 'PL As [ng/g]', 'BPb [ug/dL]',\n",
       "       'BMn [ug/dL]', 'BCd [ug/dL]', 'BAs [ug/dL]', 'Unnamed: 12',\n",
       "       'BMg[µg/dL]', 'BAl[µg/dL]', 'BV[µg/dL]', 'BCr[µg/dL]', 'BCo[µg/dL]',\n",
       "       'BNi[µg/dL]', 'BCu[µg/dL]', 'BZn[µg/dL]', 'BSe[µg/dL]', 'BMo[µg/dL]',\n",
       "       'BSn[µg/dL]', 'BSb[µg/dL]', 'BCs[µg/dL]', 'BBa[µg/dL]', 'BTl[µg/dL]',\n",
       "       'Dx postnatal', 'birth length', 'length perc', 'z score length',\n",
       "       'birth weight', 'percentile bw', 'percentile range bw', 'z score bw',\n",
       "       'Cephalic Perimeter', 'CP percentile', 'z score CP'],\n",
       "      dtype='object')"
      ]
     },
     "execution_count": 126,
     "metadata": {},
     "output_type": "execute_result"
    }
   ],
   "source": [
    "fetos_df.columns"
   ]
  },
  {
   "cell_type": "code",
   "execution_count": 127,
   "id": "c525eebc",
   "metadata": {
    "scrolled": true
   },
   "outputs": [
    {
     "data": {
      "text/plain": [
       "Name                    0\n",
       "EXP INPer              31\n",
       "Unnamed: 2              0\n",
       "Unnamed: 3              0\n",
       "PL Pb [ng/g]           33\n",
       "PL Mn [ng/g]           33\n",
       "PL Cd [ng/g]           33\n",
       "PL As [ng/g]           33\n",
       "BPb [ug/dL]            31\n",
       "BMn [ug/dL]            31\n",
       "BCd [ug/dL]            30\n",
       "BAs [ug/dL]            31\n",
       "Unnamed: 12             0\n",
       "BMg[µg/dL]             31\n",
       "BAl[µg/dL]             31\n",
       "BV[µg/dL]              31\n",
       "BCr[µg/dL]             31\n",
       "BCo[µg/dL]             31\n",
       "BNi[µg/dL]             31\n",
       "BCu[µg/dL]             31\n",
       "BZn[µg/dL]             31\n",
       "BSe[µg/dL]             31\n",
       "BMo[µg/dL]              0\n",
       "BSn[µg/dL]              0\n",
       "BSb[µg/dL]              0\n",
       "BCs[µg/dL]              0\n",
       "BBa[µg/dL]              0\n",
       "BTl[µg/dL]              0\n",
       "Dx postnatal            0\n",
       "birth length            0\n",
       "length perc             0\n",
       "z score length          0\n",
       "birth weight            0\n",
       "percentile bw           0\n",
       "percentile range bw     0\n",
       "z score bw              0\n",
       "Cephalic Perimeter      0\n",
       "CP percentile           0\n",
       "z score CP              0\n",
       "dtype: int64"
      ]
     },
     "execution_count": 127,
     "metadata": {},
     "output_type": "execute_result"
    }
   ],
   "source": [
    "#Se analiza cuantos valores no nulos existen \n",
    "fetos_df.count()"
   ]
  },
  {
   "cell_type": "code",
   "execution_count": 128,
   "id": "ddd7a6de",
   "metadata": {},
   "outputs": [],
   "source": [
    "#Limpieza de los datos\n",
    "delete_list = [\"Name\", \"EXP INPer\",\"Unnamed: 2\", \"Unnamed: 3\", \"Unnamed: 12\"]\n",
    "fetos_df = fetos_df.drop(delete_list, axis= 1)\n"
   ]
  },
  {
   "cell_type": "code",
   "execution_count": 129,
   "id": "0799a3f4",
   "metadata": {},
   "outputs": [
    {
     "data": {
      "text/plain": [
       "PL Pb [ng/g]           33\n",
       "PL Mn [ng/g]           33\n",
       "PL Cd [ng/g]           33\n",
       "PL As [ng/g]           33\n",
       "BPb [ug/dL]            31\n",
       "BMn [ug/dL]            31\n",
       "BCd [ug/dL]            30\n",
       "BAs [ug/dL]            31\n",
       "BMg[µg/dL]             31\n",
       "BAl[µg/dL]             31\n",
       "BV[µg/dL]              31\n",
       "BCr[µg/dL]             31\n",
       "BCo[µg/dL]             31\n",
       "BNi[µg/dL]             31\n",
       "BCu[µg/dL]             31\n",
       "BZn[µg/dL]             31\n",
       "BSe[µg/dL]             31\n",
       "BMo[µg/dL]              0\n",
       "BSn[µg/dL]              0\n",
       "BSb[µg/dL]              0\n",
       "BCs[µg/dL]              0\n",
       "BBa[µg/dL]              0\n",
       "BTl[µg/dL]              0\n",
       "Dx postnatal            0\n",
       "birth length            0\n",
       "length perc             0\n",
       "z score length          0\n",
       "birth weight            0\n",
       "percentile bw           0\n",
       "percentile range bw     0\n",
       "z score bw              0\n",
       "Cephalic Perimeter      0\n",
       "CP percentile           0\n",
       "z score CP              0\n",
       "dtype: int64"
      ]
     },
     "execution_count": 129,
     "metadata": {},
     "output_type": "execute_result"
    }
   ],
   "source": [
    "fetos_df.count()"
   ]
  },
  {
   "cell_type": "code",
   "execution_count": 130,
   "id": "f53d620d",
   "metadata": {},
   "outputs": [
    {
     "data": {
      "text/plain": [
       "PL Pb [ng/g]    33\n",
       "PL Mn [ng/g]    33\n",
       "PL Cd [ng/g]    33\n",
       "PL As [ng/g]    33\n",
       "BPb [ug/dL]     31\n",
       "BMn [ug/dL]     31\n",
       "BCd [ug/dL]     30\n",
       "BAs [ug/dL]     31\n",
       "BMg[µg/dL]      31\n",
       "BAl[µg/dL]      31\n",
       "BV[µg/dL]       31\n",
       "BCr[µg/dL]      31\n",
       "BCo[µg/dL]      31\n",
       "BNi[µg/dL]      31\n",
       "BCu[µg/dL]      31\n",
       "BZn[µg/dL]      31\n",
       "BSe[µg/dL]      31\n",
       "dtype: int64"
      ]
     },
     "execution_count": 130,
     "metadata": {},
     "output_type": "execute_result"
    }
   ],
   "source": [
    "fetos_df = fetos_df.iloc[:,0:17]\n",
    "fetos_df.count()"
   ]
  },
  {
   "cell_type": "code",
   "execution_count": 131,
   "id": "4a942864",
   "metadata": {},
   "outputs": [
    {
     "data": {
      "text/plain": [
       "PL Pb [ng/g]    2\n",
       "PL Mn [ng/g]    2\n",
       "PL Cd [ng/g]    2\n",
       "PL As [ng/g]    2\n",
       "BPb [ug/dL]     4\n",
       "BMn [ug/dL]     4\n",
       "BCd [ug/dL]     5\n",
       "BAs [ug/dL]     4\n",
       "BMg[µg/dL]      4\n",
       "BAl[µg/dL]      4\n",
       "BV[µg/dL]       4\n",
       "BCr[µg/dL]      4\n",
       "BCo[µg/dL]      4\n",
       "BNi[µg/dL]      4\n",
       "BCu[µg/dL]      4\n",
       "BZn[µg/dL]      4\n",
       "BSe[µg/dL]      4\n",
       "dtype: int64"
      ]
     },
     "execution_count": 131,
     "metadata": {},
     "output_type": "execute_result"
    }
   ],
   "source": [
    "fetos_df.isnull().sum()"
   ]
  },
  {
   "cell_type": "code",
   "execution_count": 132,
   "id": "22206994",
   "metadata": {},
   "outputs": [
    {
     "data": {
      "text/plain": [
       "PL Pb [ng/g]    0\n",
       "PL Mn [ng/g]    0\n",
       "PL Cd [ng/g]    0\n",
       "PL As [ng/g]    0\n",
       "BPb [ug/dL]     0\n",
       "BMn [ug/dL]     0\n",
       "BCd [ug/dL]     0\n",
       "BAs [ug/dL]     0\n",
       "BMg[µg/dL]      0\n",
       "BAl[µg/dL]      0\n",
       "BV[µg/dL]       0\n",
       "BCr[µg/dL]      0\n",
       "BCo[µg/dL]      0\n",
       "BNi[µg/dL]      0\n",
       "BCu[µg/dL]      0\n",
       "BZn[µg/dL]      0\n",
       "BSe[µg/dL]      0\n",
       "dtype: int64"
      ]
     },
     "execution_count": 132,
     "metadata": {},
     "output_type": "execute_result"
    }
   ],
   "source": [
    "fetos_df = fetos_df.dropna()\n",
    "fetos_df.isnull().sum()"
   ]
  },
  {
   "cell_type": "code",
   "execution_count": 133,
   "id": "6ef4f3f3",
   "metadata": {},
   "outputs": [
    {
     "data": {
      "text/plain": [
       "(28, 17)"
      ]
     },
     "execution_count": 133,
     "metadata": {},
     "output_type": "execute_result"
    }
   ],
   "source": [
    "#Dimensiones después de la limpieza de datos\n",
    "fetos_df.shape"
   ]
  },
  {
   "cell_type": "code",
   "execution_count": 134,
   "id": "04430e00",
   "metadata": {},
   "outputs": [
    {
     "data": {
      "text/plain": [
       "PL Pb [ng/g]    float64\n",
       "PL Mn [ng/g]    float64\n",
       "PL Cd [ng/g]    float64\n",
       "PL As [ng/g]    float64\n",
       "BPb [ug/dL]     float64\n",
       "BMn [ug/dL]     float64\n",
       "BCd [ug/dL]     float64\n",
       "BAs [ug/dL]     float64\n",
       "BMg[µg/dL]      float64\n",
       "BAl[µg/dL]      float64\n",
       "BV[µg/dL]       float64\n",
       "BCr[µg/dL]      float64\n",
       "BCo[µg/dL]      float64\n",
       "BNi[µg/dL]      float64\n",
       "BCu[µg/dL]      float64\n",
       "BZn[µg/dL]      float64\n",
       "BSe[µg/dL]      float64\n",
       "dtype: object"
      ]
     },
     "execution_count": 134,
     "metadata": {},
     "output_type": "execute_result"
    }
   ],
   "source": [
    "#Verificamos que el tipo de datos sean correctos \n",
    "fetos_df.dtypes"
   ]
  },
  {
   "cell_type": "code",
   "execution_count": 135,
   "id": "e55ba50b",
   "metadata": {},
   "outputs": [],
   "source": [
    "#PCA funciona mejor con un conjunto de características normalizadas. \n",
    "#Realizaremos una normalización escalar estándar para normalizar nuestro conjunto de características. \n",
    "from sklearn.preprocessing import StandardScaler\n",
    "sc = StandardScaler()\n",
    "data = fetos_df.iloc[:,:].values\n",
    "data_std = sc.fit_transform(data)"
   ]
  },
  {
   "cell_type": "code",
   "execution_count": 136,
   "id": "aa8cc7f7",
   "metadata": {},
   "outputs": [
    {
     "data": {
      "text/html": [
       "<div>\n",
       "<style scoped>\n",
       "    .dataframe tbody tr th:only-of-type {\n",
       "        vertical-align: middle;\n",
       "    }\n",
       "\n",
       "    .dataframe tbody tr th {\n",
       "        vertical-align: top;\n",
       "    }\n",
       "\n",
       "    .dataframe thead th {\n",
       "        text-align: right;\n",
       "    }\n",
       "</style>\n",
       "<table border=\"1\" class=\"dataframe\">\n",
       "  <thead>\n",
       "    <tr style=\"text-align: right;\">\n",
       "      <th></th>\n",
       "      <th>0</th>\n",
       "      <th>1</th>\n",
       "      <th>2</th>\n",
       "    </tr>\n",
       "  </thead>\n",
       "  <tbody>\n",
       "    <tr>\n",
       "      <th>0</th>\n",
       "      <td>0.610759</td>\n",
       "      <td>-2.013705</td>\n",
       "      <td>1.554893</td>\n",
       "    </tr>\n",
       "    <tr>\n",
       "      <th>1</th>\n",
       "      <td>-1.923661</td>\n",
       "      <td>-0.034640</td>\n",
       "      <td>-0.238692</td>\n",
       "    </tr>\n",
       "    <tr>\n",
       "      <th>2</th>\n",
       "      <td>4.097187</td>\n",
       "      <td>1.001809</td>\n",
       "      <td>2.429124</td>\n",
       "    </tr>\n",
       "    <tr>\n",
       "      <th>3</th>\n",
       "      <td>-1.247562</td>\n",
       "      <td>-0.026979</td>\n",
       "      <td>0.331484</td>\n",
       "    </tr>\n",
       "    <tr>\n",
       "      <th>4</th>\n",
       "      <td>-1.227570</td>\n",
       "      <td>-0.875361</td>\n",
       "      <td>0.476353</td>\n",
       "    </tr>\n",
       "    <tr>\n",
       "      <th>5</th>\n",
       "      <td>-1.492575</td>\n",
       "      <td>-0.767175</td>\n",
       "      <td>-0.900494</td>\n",
       "    </tr>\n",
       "    <tr>\n",
       "      <th>6</th>\n",
       "      <td>-1.566541</td>\n",
       "      <td>-0.018598</td>\n",
       "      <td>-1.194719</td>\n",
       "    </tr>\n",
       "    <tr>\n",
       "      <th>7</th>\n",
       "      <td>-2.105611</td>\n",
       "      <td>-0.474351</td>\n",
       "      <td>1.784155</td>\n",
       "    </tr>\n",
       "    <tr>\n",
       "      <th>8</th>\n",
       "      <td>-0.196490</td>\n",
       "      <td>-2.755181</td>\n",
       "      <td>2.204763</td>\n",
       "    </tr>\n",
       "    <tr>\n",
       "      <th>9</th>\n",
       "      <td>-0.903796</td>\n",
       "      <td>-1.151315</td>\n",
       "      <td>0.055742</td>\n",
       "    </tr>\n",
       "    <tr>\n",
       "      <th>10</th>\n",
       "      <td>-1.722499</td>\n",
       "      <td>-0.480326</td>\n",
       "      <td>-0.158110</td>\n",
       "    </tr>\n",
       "    <tr>\n",
       "      <th>11</th>\n",
       "      <td>-1.446465</td>\n",
       "      <td>-1.004692</td>\n",
       "      <td>0.332560</td>\n",
       "    </tr>\n",
       "    <tr>\n",
       "      <th>12</th>\n",
       "      <td>0.339390</td>\n",
       "      <td>-2.629518</td>\n",
       "      <td>3.225714</td>\n",
       "    </tr>\n",
       "    <tr>\n",
       "      <th>13</th>\n",
       "      <td>-1.423668</td>\n",
       "      <td>0.145256</td>\n",
       "      <td>-1.155691</td>\n",
       "    </tr>\n",
       "    <tr>\n",
       "      <th>14</th>\n",
       "      <td>-1.535059</td>\n",
       "      <td>0.500810</td>\n",
       "      <td>-0.684096</td>\n",
       "    </tr>\n",
       "    <tr>\n",
       "      <th>15</th>\n",
       "      <td>-1.139700</td>\n",
       "      <td>0.727236</td>\n",
       "      <td>-0.266859</td>\n",
       "    </tr>\n",
       "    <tr>\n",
       "      <th>16</th>\n",
       "      <td>9.398700</td>\n",
       "      <td>-4.906866</td>\n",
       "      <td>-2.305877</td>\n",
       "    </tr>\n",
       "    <tr>\n",
       "      <th>17</th>\n",
       "      <td>-0.933479</td>\n",
       "      <td>-1.476857</td>\n",
       "      <td>-0.547482</td>\n",
       "    </tr>\n",
       "    <tr>\n",
       "      <th>18</th>\n",
       "      <td>-1.167832</td>\n",
       "      <td>0.224086</td>\n",
       "      <td>-1.241087</td>\n",
       "    </tr>\n",
       "    <tr>\n",
       "      <th>19</th>\n",
       "      <td>-0.904194</td>\n",
       "      <td>-0.066822</td>\n",
       "      <td>-0.512590</td>\n",
       "    </tr>\n",
       "    <tr>\n",
       "      <th>20</th>\n",
       "      <td>-0.800517</td>\n",
       "      <td>-0.152562</td>\n",
       "      <td>-1.580601</td>\n",
       "    </tr>\n",
       "    <tr>\n",
       "      <th>21</th>\n",
       "      <td>-0.636813</td>\n",
       "      <td>-0.232134</td>\n",
       "      <td>-2.816849</td>\n",
       "    </tr>\n",
       "    <tr>\n",
       "      <th>22</th>\n",
       "      <td>-0.190458</td>\n",
       "      <td>0.333014</td>\n",
       "      <td>0.841147</td>\n",
       "    </tr>\n",
       "    <tr>\n",
       "      <th>23</th>\n",
       "      <td>3.137973</td>\n",
       "      <td>4.667563</td>\n",
       "      <td>1.600773</td>\n",
       "    </tr>\n",
       "    <tr>\n",
       "      <th>24</th>\n",
       "      <td>0.148301</td>\n",
       "      <td>2.264053</td>\n",
       "      <td>-0.267660</td>\n",
       "    </tr>\n",
       "    <tr>\n",
       "      <th>25</th>\n",
       "      <td>1.701972</td>\n",
       "      <td>2.269898</td>\n",
       "      <td>-0.372146</td>\n",
       "    </tr>\n",
       "    <tr>\n",
       "      <th>26</th>\n",
       "      <td>4.035834</td>\n",
       "      <td>5.014572</td>\n",
       "      <td>-0.356670</td>\n",
       "    </tr>\n",
       "    <tr>\n",
       "      <th>27</th>\n",
       "      <td>-0.905627</td>\n",
       "      <td>1.918784</td>\n",
       "      <td>-0.237082</td>\n",
       "    </tr>\n",
       "  </tbody>\n",
       "</table>\n",
       "</div>"
      ],
      "text/plain": [
       "           0         1         2\n",
       "0   0.610759 -2.013705  1.554893\n",
       "1  -1.923661 -0.034640 -0.238692\n",
       "2   4.097187  1.001809  2.429124\n",
       "3  -1.247562 -0.026979  0.331484\n",
       "4  -1.227570 -0.875361  0.476353\n",
       "5  -1.492575 -0.767175 -0.900494\n",
       "6  -1.566541 -0.018598 -1.194719\n",
       "7  -2.105611 -0.474351  1.784155\n",
       "8  -0.196490 -2.755181  2.204763\n",
       "9  -0.903796 -1.151315  0.055742\n",
       "10 -1.722499 -0.480326 -0.158110\n",
       "11 -1.446465 -1.004692  0.332560\n",
       "12  0.339390 -2.629518  3.225714\n",
       "13 -1.423668  0.145256 -1.155691\n",
       "14 -1.535059  0.500810 -0.684096\n",
       "15 -1.139700  0.727236 -0.266859\n",
       "16  9.398700 -4.906866 -2.305877\n",
       "17 -0.933479 -1.476857 -0.547482\n",
       "18 -1.167832  0.224086 -1.241087\n",
       "19 -0.904194 -0.066822 -0.512590\n",
       "20 -0.800517 -0.152562 -1.580601\n",
       "21 -0.636813 -0.232134 -2.816849\n",
       "22 -0.190458  0.333014  0.841147\n",
       "23  3.137973  4.667563  1.600773\n",
       "24  0.148301  2.264053 -0.267660\n",
       "25  1.701972  2.269898 -0.372146\n",
       "26  4.035834  5.014572 -0.356670\n",
       "27 -0.905627  1.918784 -0.237082"
      ]
     },
     "execution_count": 136,
     "metadata": {},
     "output_type": "execute_result"
    }
   ],
   "source": [
    "#Usaremos PCA de sklearn como punto de referencia para verificar al final que nuestros componentes \n",
    "#obtenidos manualmente son correctos\n",
    "from sklearn.decomposition import PCA\n",
    "pca = PCA(n_components=3)\n",
    "X_train_stdpca = pca.fit_transform(data_std)\n",
    "X_train_stdpca = pd.DataFrame(X_train_stdpca)\n",
    "X_train_stdpca"
   ]
  },
  {
   "cell_type": "code",
   "execution_count": 137,
   "id": "e2e68610",
   "metadata": {},
   "outputs": [
    {
     "data": {
      "text/plain": [
       "array([6.18873801, 4.14466267, 1.9603571 ])"
      ]
     },
     "execution_count": 137,
     "metadata": {},
     "output_type": "execute_result"
    }
   ],
   "source": [
    "pca.explained_variance_"
   ]
  },
  {
   "cell_type": "code",
   "execution_count": 149,
   "id": "6809cef7",
   "metadata": {},
   "outputs": [
    {
     "name": "stdout",
     "output_type": "stream",
     "text": [
      "[[ 0.30194297  0.23022012  0.09652289  0.25341843 -0.00345133 -0.1556731\n",
      "   0.34922876  0.00484173 -0.19199618  0.19040455  0.23767059  0.33086266\n",
      "   0.31533474  0.39168326 -0.08364004  0.19720019 -0.31345207]\n",
      " [-0.25138797 -0.28440837 -0.24371017 -0.2970665  -0.32924825 -0.03670899\n",
      "  -0.13198953 -0.13839229  0.0396734   0.38737786  0.37483037  0.19724024\n",
      "   0.05989618  0.05358678 -0.29090107 -0.32293954 -0.18851421]\n",
      " [-0.22158608 -0.30117458  0.24399081 -0.22013453  0.3265893  -0.10511021\n",
      "   0.19174132 -0.16800748  0.38242448  0.13064449  0.13012478  0.2110877\n",
      "   0.22946392  0.05680143  0.50246994  0.1307398   0.13873286]]\n"
     ]
    }
   ],
   "source": [
    "print( pca.components_)"
   ]
  },
  {
   "cell_type": "code",
   "execution_count": 139,
   "id": "e8845c62",
   "metadata": {},
   "outputs": [],
   "source": [
    "#Funcion obtener matriz de covarianza\n",
    "def matrix_covariance(m):\n",
    "    \n",
    "    X = np.array(m, ndmin=2)\n",
    "    X= X.T\n",
    "    w = None\n",
    "    ddof = 1 \n",
    "    avg, w_sum = np.average(X, axis=1, weights=w, returned=True)\n",
    "    w_sum = w_sum[0]\n",
    "    fact = X.shape[1] - ddof\n",
    "    X -= avg[:, None]\n",
    "    X_T = X.T\n",
    "    c = np.dot(X, X_T.conj())\n",
    "    c *= np.true_divide(1, fact)\n",
    "    return c.squeeze()"
   ]
  },
  {
   "cell_type": "code",
   "execution_count": 161,
   "id": "19e7a8f0",
   "metadata": {},
   "outputs": [
    {
     "name": "stdout",
     "output_type": "stream",
     "text": [
      "[ 0.90313608  1.03703704  0.33460223  0.85258467  0.20493776 -0.00953924\n",
      "  0.49592855  0.04692143 -0.43895262 -0.24066981 -0.15235799  0.11889386\n",
      "  0.28977981  0.44061961 -0.10630511  0.49043451 -0.25404062]\n",
      "(17, 17)\n"
     ]
    }
   ],
   "source": [
    "#Obtenemos la matriz de covarianza de nuestros datos ya estandarizados y verificamos que la dimension sea correcta:17 x 17\n",
    "cov_mat = matrix_covariance(data_std)\n",
    "print(cov_mat[1])\n",
    "print(cov_mat.shape)"
   ]
  },
  {
   "cell_type": "code",
   "execution_count": 162,
   "id": "1e2798cc",
   "metadata": {},
   "outputs": [
    {
     "name": "stdout",
     "output_type": "stream",
     "text": [
      "Eigenvals:  [6.18873801e+00 4.14466267e+00 1.96035710e+00 1.59561309e+00\n",
      " 1.07339372e+00 9.46159440e-01 5.22225508e-01 3.29675158e-01\n",
      " 2.43854186e-01 1.96664389e-01 1.23284345e-01 1.35662012e-01\n",
      " 1.73899878e-03 3.02376906e-02 2.00481828e-02 5.84556472e-02\n",
      " 5.88594864e-02]\n",
      "(17,)\n"
     ]
    }
   ],
   "source": [
    "#Obtenemos eigenvalores y eigenvectores \n",
    "eigen_vals, eigen_vecs = np.linalg.eig(cov_mat)\n",
    "print('Eigenvals: ',eigen_vals)\n",
    "print(eigen_vals.shape)\n",
    "\n"
   ]
  },
  {
   "cell_type": "code",
   "execution_count": 163,
   "id": "05f222d4",
   "metadata": {},
   "outputs": [
    {
     "data": {
      "text/plain": [
       "array([-0.31345207, -0.18851421, -0.13873286, -0.1768223 , -0.11054416,\n",
       "       -0.15747021,  0.05324376, -0.43425761,  0.02794319,  0.65801617,\n",
       "        0.00125656,  0.10080616, -0.07812288, -0.02182955,  0.15693461,\n",
       "        0.03327877, -0.33319752])"
      ]
     },
     "execution_count": 163,
     "metadata": {},
     "output_type": "execute_result"
    }
   ],
   "source": [
    "eigen_vecs[16]"
   ]
  },
  {
   "cell_type": "code",
   "execution_count": 164,
   "id": "de0a565d",
   "metadata": {},
   "outputs": [
    {
     "data": {
      "image/png": "[encoded data removed]",
      "text/plain": [
       "<Figure size 432x288 with 1 Axes>"
      ]
     },
     "metadata": {
      "needs_background": "light"
     },
     "output_type": "display_data"
    }
   ],
   "source": [
    "#Ahora graficamos la covarianza individual y acumulada de cada componente para verificar cuales son las tres principales componentes.\n",
    "import matplotlib.pyplot as plt\n",
    "tot = sum(eigen_vals)\n",
    "var_exp = [ev/tot for ev in sorted(eigen_vals, reverse=True)]\n",
    "cum_var_exp = np.cumsum(var_exp) #Ordenar los eigenvalores\n",
    "plt.bar(range(1,18),var_exp, label = 'varianza individual',align='center')\n",
    "plt.step(range(1,18),cum_var_exp, where='mid',label='varianza acumulativa')\n",
    "plt.xlabel('componentes')\n",
    "plt.ylabel('varianza')\n",
    "plt.legend(loc='best')\n",
    "plt.show()"
   ]
  },
  {
   "cell_type": "code",
   "execution_count": 165,
   "id": "f45104a6",
   "metadata": {},
   "outputs": [
    {
     "name": "stdout",
     "output_type": "stream",
     "text": [
      "(1.9603570984303722, array([ 0.22158608,  0.30117458, -0.24399081,  0.22013453, -0.3265893 ,\n",
      "        0.10511021, -0.19174132,  0.16800748, -0.38242448, -0.13064449,\n",
      "       -0.13012478, -0.2110877 , -0.22946392, -0.05680143, -0.50246994,\n",
      "       -0.1307398 , -0.13873286]))\n"
     ]
    }
   ],
   "source": [
    "eigen_par = [(np.abs(eigen_vals[i]), eigen_vecs[:,i]) for i in range(len(eigen_vals))]\n",
    "eigen_par.sort(key = lambda k: k[0], reverse = True)\n",
    "#Ya ordenamos eigen valores y eigen vectores\n",
    "print(eigen_par[2])"
   ]
  },
  {
   "cell_type": "code",
   "execution_count": 166,
   "id": "c9f336ec",
   "metadata": {},
   "outputs": [
    {
     "name": "stdout",
     "output_type": "stream",
     "text": [
      "0.5861382737470219\n"
     ]
    }
   ],
   "source": [
    "#El acumulado de las tres principales componentes:\n",
    "print(cum_var_exp[1])"
   ]
  },
  {
   "cell_type": "code",
   "execution_count": 167,
   "id": "9979b038",
   "metadata": {},
   "outputs": [
    {
     "name": "stdout",
     "output_type": "stream",
     "text": [
      "W = \n",
      " [[ 0.30194297 -0.25138797  0.22158608]\n",
      " [ 0.23022012 -0.28440837  0.30117458]\n",
      " [ 0.09652289 -0.24371017 -0.24399081]\n",
      " [ 0.25341843 -0.2970665   0.22013453]\n",
      " [-0.00345133 -0.32924825 -0.3265893 ]\n",
      " [-0.1556731  -0.03670899  0.10511021]\n",
      " [ 0.34922876 -0.13198953 -0.19174132]\n",
      " [ 0.00484173 -0.13839229  0.16800748]\n",
      " [-0.19199618  0.0396734  -0.38242448]\n",
      " [ 0.19040455  0.38737786 -0.13064449]\n",
      " [ 0.23767059  0.37483037 -0.13012478]\n",
      " [ 0.33086266  0.19724024 -0.2110877 ]\n",
      " [ 0.31533474  0.05989618 -0.22946392]\n",
      " [ 0.39168326  0.05358678 -0.05680143]\n",
      " [-0.08364004 -0.29090107 -0.50246994]\n",
      " [ 0.19720019 -0.32293954 -0.1307398 ]\n",
      " [-0.31345207 -0.18851421 -0.13873286]]\n"
     ]
    }
   ],
   "source": [
    "w = np.hstack( (eigen_par[0][1][:,np.newaxis],\n",
    "              eigen_par[1][1][:,np.newaxis],\n",
    "               eigen_par[2][1][:,np.newaxis]))\n",
    "print('W = \\n',w)"
   ]
  },
  {
   "cell_type": "code",
   "execution_count": 168,
   "id": "11fe9bd2",
   "metadata": {},
   "outputs": [
    {
     "data": {
      "text/plain": [
       "array([[ 0.61075888, -2.01370536, -1.55489333],\n",
       "       [-1.92366143, -0.03464032,  0.23869223],\n",
       "       [ 4.0971865 ,  1.00180946, -2.42912391],\n",
       "       [-1.24756208, -0.02697924, -0.3314835 ],\n",
       "       [-1.22756956, -0.87536126, -0.47635315],\n",
       "       [-1.49257545, -0.76717489,  0.9004943 ],\n",
       "       [-1.5665408 , -0.01859763,  1.19471911],\n",
       "       [-2.10561075, -0.47435078, -1.78415464],\n",
       "       [-0.19648995, -2.75518058, -2.20476294],\n",
       "       [-0.90379566, -1.1513146 , -0.0557418 ],\n",
       "       [-1.72249919, -0.48032612,  0.15811046],\n",
       "       [-1.44646467, -1.00469153, -0.33256006],\n",
       "       [ 0.33939025, -2.62951823, -3.22571396],\n",
       "       [-1.42366751,  0.14525613,  1.15569135],\n",
       "       [-1.53505869,  0.50081012,  0.68409573],\n",
       "       [-1.13969983,  0.72723558,  0.26685908],\n",
       "       [ 9.39870031, -4.90686572,  2.30587718],\n",
       "       [-0.93347913, -1.47685702,  0.54748192],\n",
       "       [-1.16783187,  0.22408608,  1.24108736],\n",
       "       [-0.90419366, -0.06682175,  0.51259031],\n",
       "       [-0.80051657, -0.15256176,  1.58060069],\n",
       "       [-0.63681304, -0.23213393,  2.81684931],\n",
       "       [-0.19045821,  0.33301384, -0.84114749],\n",
       "       [ 3.13797269,  4.66756261, -1.60077288],\n",
       "       [ 0.14830073,  2.26405349,  0.2676601 ],\n",
       "       [ 1.70197191,  2.26989772,  0.37214632],\n",
       "       [ 4.03583377,  5.01457159,  0.35667048],\n",
       "       [-0.905627  ,  1.91878409,  0.23708174]])"
      ]
     },
     "execution_count": 168,
     "metadata": {},
     "output_type": "execute_result"
    }
   ],
   "source": [
    "X_train_pca = data_std.dot(w)\n",
    "X_train_pca"
   ]
  },
  {
   "cell_type": "code",
   "execution_count": 170,
   "id": "f28643e9",
   "metadata": {},
   "outputs": [],
   "source": [
    "#Graficamos 3 compontentes principales\n",
    "import matplotlib.pyplot as plt\n",
    "from mpl_toolkits.mplot3d import Axes3D\n"
   ]
  },
  {
   "cell_type": "code",
   "execution_count": 174,
   "id": "f9d1c29c",
   "metadata": {},
   "outputs": [
    {
     "name": "stderr",
     "output_type": "stream",
     "text": [
      "/var/folders/27/l_zwfs3x6f94rcf0f97504t00000gn/T/ipykernel_23772/750262812.py:3: MatplotlibDeprecationWarning: Axes3D(fig) adding itself to the figure is deprecated since 3.4. Pass the keyword argument auto_add_to_figure=False and use fig.add_axes(ax) to suppress this warning. The default value of auto_add_to_figure will change to False in mpl3.5 and True values will no longer work in 3.6.  This is consistent with other Axes classes.\n",
      "  ax = Axes3D(fig)\n"
     ]
    },
    {
     "data": {
      "text/plain": [
       "<mpl_toolkits.mplot3d.art3d.Path3DCollection at 0x7fa32b6db250>"
      ]
     },
     "execution_count": 174,
     "metadata": {},
     "output_type": "execute_result"
    },
    {
     "data": {
      "image/png": "[encoded data removed]",
      "text/plain": [
       "<Figure size 864x648 with 1 Axes>"
      ]
     },
     "metadata": {
      "needs_background": "light"
     },
     "output_type": "display_data"
    }
   ],
   "source": [
    "plt.rcParams['figure.figsize'] = (12,9)\n",
    "fig = plt.figure()\n",
    "ax = Axes3D(fig)\n",
    "ax.scatter(X_train_pca[:,0],X_train_pca[:,1],X_train_pca[:,2], alpha=1)"
   ]
  },
  {
   "cell_type": "code",
   "execution_count": 213,
   "id": "fdf53349",
   "metadata": {},
   "outputs": [],
   "source": [
    "#Código para KMeans\n",
    "import random\n",
    "def iniciar_centroides(data):\n",
    "  init_centroids = random.sample(range(0, len(data)), 3)\n",
    "  centroids = []\n",
    "  for i in init_centroids:\n",
    "    centroids.append(data.loc[i])\n",
    "  centroids = np.array(centroids)\n",
    "  return centroids"
   ]
  },
  {
   "cell_type": "code",
   "execution_count": 214,
   "id": "b5a72c4c",
   "metadata": {},
   "outputs": [],
   "source": [
    "#Desarrollemos una función para calcular la distancia.\n",
    "from sklearn.metrics import pairwise_distances as pdist\n",
    "def calc_distance(X1, X2,metric):\n",
    "    \"\"\"\n",
    "    Esta función es un selector entre los métodos de cálculo de distancia: Euclidiana o Manhattan\n",
    "    \n",
    "    input\n",
    "    --------\n",
    "    X1: Vector 1\n",
    "    X2: Vector 2\n",
    "    metric : Un string que indica la distancia a usar ya sea euclidean o manhattan\n",
    "    \n",
    "    output\n",
    "    --------\n",
    "    El output es el valor calculado de la distancia\n",
    "    \n",
    "    \"\"\"\n",
    "    if metric == \"euclidean\":\n",
    "        return(sum((X1 - X2)**2))**0.5\n",
    "    \n",
    "    elif metric == \"manhattan\":\n",
    "        return (sum(abs(X1-X2)))"
   ]
  },
  {
   "cell_type": "code",
   "execution_count": 215,
   "id": "6388de5e",
   "metadata": {},
   "outputs": [],
   "source": [
    "def findClosestCentroids(ic, X, metric):\n",
    "    \"\"\"\n",
    "    Regresa el centroide más cercano al punto según la métrica usada.\n",
    "    \n",
    "    \n",
    "    input\n",
    "    ------\n",
    "    ic: Conjunto de centroides\n",
    "    X: Datos \n",
    "    metric: Metrica que queremos usar manhattan o euclidean\n",
    "    \n",
    "    output\n",
    "    -------\n",
    "    La asignacion al centroide correspondiente (mas cercano de acuerdo a la distancia)\n",
    "    \"\"\"\n",
    "    assigned_centroid = []\n",
    "    for i in X:\n",
    "        distance=[]\n",
    "        for j in ic:\n",
    "            distance.append(calc_distance(i, j, metric))\n",
    "        assigned_centroid.append(np.argmin(distance))\n",
    "    return assigned_centroid"
   ]
  },
  {
   "cell_type": "code",
   "execution_count": 216,
   "id": "8beea0ac",
   "metadata": {},
   "outputs": [],
   "source": [
    "def calc_centroids(clusters, X):\n",
    "    \"\"\"\n",
    "    Calcula los centroides de cada grupo.\n",
    "    \n",
    "    input\n",
    "    --------\n",
    "    clusters: Número de conjuntos\n",
    "    X: Datos\n",
    "    \n",
    "    output\n",
    "    -------\n",
    "    Regresa los nuevos centroides \n",
    "    \"\"\"\n",
    "    new_centroids = []\n",
    "    new_df = pd.concat([pd.DataFrame(X), pd.DataFrame(clusters, columns=['cluster'])],\n",
    "                      axis=1)\n",
    "    for c in set(new_df['cluster']):\n",
    "        current_cluster = new_df[new_df['cluster'] == c][new_df.columns[:-1]]\n",
    "        cluster_mean = current_cluster.mean(axis=0)\n",
    "        new_centroids.append(cluster_mean)\n",
    "    return new_centroids"
   ]
  },
  {
   "cell_type": "code",
   "execution_count": 217,
   "id": "bc424483",
   "metadata": {},
   "outputs": [],
   "source": [
    "X_array = X_train_pca\n",
    "X_df = pd.DataFrame(X_array)"
   ]
  },
  {
   "cell_type": "code",
   "execution_count": 218,
   "id": "c2187f59",
   "metadata": {},
   "outputs": [
    {
     "data": {
      "text/plain": [
       "array([[-0.63681304, -0.23213393,  2.81684931],\n",
       "       [ 3.13797269,  4.66756261, -1.60077288],\n",
       "       [-0.93347913, -1.47685702,  0.54748192]])"
      ]
     },
     "execution_count": 218,
     "metadata": {},
     "output_type": "execute_result"
    }
   ],
   "source": [
    "centroids = iniciar_centroides(X_df)\n",
    "centroids"
   ]
  },
  {
   "cell_type": "code",
   "execution_count": 219,
   "id": "d7b54e3f",
   "metadata": {},
   "outputs": [],
   "source": [
    "for i in range(20):\n",
    "    get_centroids = findClosestCentroids(centroids, X_array, 'euclidean')\n",
    "    centroids = calc_centroids(get_centroids, X_array)\n",
    "    #print(centroids)\n"
   ]
  },
  {
   "cell_type": "code",
   "execution_count": 222,
   "id": "8e5c9121",
   "metadata": {},
   "outputs": [
    {
     "name": "stderr",
     "output_type": "stream",
     "text": [
      "/var/folders/27/l_zwfs3x6f94rcf0f97504t00000gn/T/ipykernel_23772/4049205510.py:2: MatplotlibDeprecationWarning: Axes3D(fig) adding itself to the figure is deprecated since 3.4. Pass the keyword argument auto_add_to_figure=False and use fig.add_axes(ax) to suppress this warning. The default value of auto_add_to_figure will change to False in mpl3.5 and True values will no longer work in 3.6.  This is consistent with other Axes classes.\n",
      "  ax = Axes3D(fig)\n"
     ]
    },
    {
     "data": {
      "text/plain": [
       "<mpl_toolkits.mplot3d.art3d.Path3DCollection at 0x7fa310ac6520>"
      ]
     },
     "execution_count": 222,
     "metadata": {},
     "output_type": "execute_result"
    },
    {
     "data": {
      "image/png": "[encoded data removed]",
      "text/plain": [
       "<Figure size 864x648 with 1 Axes>"
      ]
     },
     "metadata": {
      "needs_background": "light"
     },
     "output_type": "display_data"
    }
   ],
   "source": [
    "fig = plt.figure()\n",
    "ax = Axes3D(fig)\n",
    "ax.scatter(np.array(centroids)[:, 0], np.array(centroids)[:, 1], np.array(centroids)[:,2], color='black', marker = '*', s = 300)\n",
    "ax.scatter(X_array[:, 0], X_array[:, 1], X_array[:, 2])"
   ]
  },
  {
   "cell_type": "code",
   "execution_count": null,
   "id": "38a1a891",
   "metadata": {},
   "outputs": [],
   "source": []
  },
  {
   "cell_type": "code",
   "execution_count": null,
   "id": "638c167a",
   "metadata": {},
   "outputs": [],
   "source": []
  },
  {
   "cell_type": "code",
   "execution_count": null,
   "id": "5f791373",
   "metadata": {},
   "outputs": [],
   "source": []
  }
 ],
 "metadata": {
  "kernelspec": {
   "display_name": "Python 3 (ipykernel)",
   "language": "python",
   "name": "python3"
  },
  "language_info": {
   "codemirror_mode": {
    "name": "ipython",
    "version": 3
   },
   "file_extension": ".py",
   "mimetype": "text/x-python",
   "name": "python",
   "nbconvert_exporter": "python",
   "pygments_lexer": "ipython3",
   "version": "3.8.11"
  }
 },
 "nbformat": 4,
 "nbformat_minor": 5
}
